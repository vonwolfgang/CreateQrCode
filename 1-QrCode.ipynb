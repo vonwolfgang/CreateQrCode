{
 "cells": [
  {
   "cell_type": "code",
   "execution_count": 3,
   "id": "1bdaa2b3",
   "metadata": {},
   "outputs": [],
   "source": [
    "def createQrCode(link, fill_color, back_color, qrCodeName):\n",
    "    \n",
    "    \"\"\"\n",
    "    Parameters:\n",
    "    \n",
    "    link: It is a network addres what you want to embed into the qrcode.\n",
    "    fill_color: It is color of qrcode. You can choose white, black, green, yellow...\n",
    "    back_color : It is back color of qrcode. You can choose one of them white, black, green, yellow...\n",
    "    qrCodeName : It is qrcode name. \n",
    "    \n",
    "    \"\"\"\n",
    "    import qrcode\n",
    "    # if your computer doesn't have library of qrcode you can install with that command --> pip install qrcode from your terminal.\n",
    "    \n",
    "    code = qrcode.QRCode(version=1, error_correction = qrcode.constants.ERROR_CORRECT_L, box_size = 100, border=4)\n",
    "\n",
    "    code.add_data(link)\n",
    "    code.make(fit = True)\n",
    "\n",
    "    image = code.make_image(fill_color=fill_color, back_color=back_color)\n",
    "    image.save(qrCodeName + \".png\")\n",
    "    # this commmand will save the your qrcode."
   ]
  }
 ],
 "metadata": {
  "kernelspec": {
   "display_name": "Python 3",
   "language": "python",
   "name": "python3"
  },
  "language_info": {
   "codemirror_mode": {
    "name": "ipython",
    "version": 3
   },
   "file_extension": ".py",
   "mimetype": "text/x-python",
   "name": "python",
   "nbconvert_exporter": "python",
   "pygments_lexer": "ipython3",
   "version": "3.9.6"
  }
 },
 "nbformat": 4,
 "nbformat_minor": 5
}
